{
  "nbformat": 4,
  "nbformat_minor": 0,
  "metadata": {
    "colab": {
      "provenance": [],
      "include_colab_link": true
    },
    "kernelspec": {
      "name": "python3",
      "display_name": "Python 3"
    },
    "language_info": {
      "name": "python"
    },
    "accelerator": "GPU",
    "gpuClass": "standard"
  },
  "cells": [
    {
      "cell_type": "markdown",
      "metadata": {
        "id": "view-in-github",
        "colab_type": "text"
      },
      "source": [
        "<a href=\"https://colab.research.google.com/github/HaribalajiBaskar/Wav2lip/blob/main/Wav2Lip_Train.ipynb\" target=\"_parent\"><img src=\"https://colab.research.google.com/assets/colab-badge.svg\" alt=\"Open In Colab\"/></a>"
      ]
    },
    {
      "cell_type": "code",
      "source": [
        "from google.colab import drive\n",
        "drive.mount('/content/drive')"
      ],
      "metadata": {
        "colab": {
          "base_uri": "https://localhost:8080/"
        },
        "id": "zMT5Tp-jhbWX",
        "outputId": "0b1653ae-3227-40e3-8bf1-f5b2b4d85135"
      },
      "execution_count": null,
      "outputs": [
        {
          "output_type": "stream",
          "name": "stdout",
          "text": [
            "Mounted at /content/drive\n"
          ]
        }
      ]
    },
    {
      "cell_type": "code",
      "source": [
        "!git clone https://github.com/Rudrabha/Wav2Lip.git"
      ],
      "metadata": {
        "colab": {
          "base_uri": "https://localhost:8080/"
        },
        "id": "C-GjzwU1uneY",
        "outputId": "8f6436f2-3c1f-4d8e-a400-75990e54659c"
      },
      "execution_count": null,
      "outputs": [
        {
          "output_type": "stream",
          "name": "stdout",
          "text": [
            "Cloning into 'Wav2Lip'...\n",
            "remote: Enumerating objects: 360, done.\u001b[K\n",
            "remote: Total 360 (delta 0), reused 0 (delta 0), pack-reused 360\u001b[K\n",
            "Receiving objects: 100% (360/360), 522.32 KiB | 1.88 MiB/s, done.\n",
            "Resolving deltas: 100% (198/198), done.\n"
          ]
        }
      ]
    },
    {
      "cell_type": "code",
      "source": [
        "# download the pretrained model\n",
        "# !wget 'https://iiitaphyd-my.sharepoint.com/personal/radrabha_m_research_iiit_ac_in/_layouts/15/download.aspx?share=EdjI7bZlgApMqsVoEUUXpLsBxqXbn5z8VTmoxp55YNDcIA' -O '/content/Wav2Lip/checkpoints/wav2lip_gan.pth'\n",
        "# !wget 'https://iiitaphyd-my.sharepoint.com/:u:/g/personal/radrabha_m_research_iiit_ac_in/Eb3LEzbfuKlJiR600lQWRxgBIY27JZg80f7V9jtMfbNDaQ?e=TBFBVW' -O '/content/Wav2Lip/checkpoints/wav2lip.pth'\n",
        "\n",
        "!pip install https://raw.githubusercontent.com/AwaleSajil/ghc/master/ghc-1.0-py3-none-any.whl\n",
        "\n",
        "!cd Wav2Lip && rm -r /content/Wav2Lip/requirements.txt \n",
        "\n",
        "!cd Wav2Lip && cp /content/drive/MyDrive/Wav2lip_models/requirements.txt /content/Wav2Lip/requirements.txt\n",
        "\n",
        "# !pip uninstall tensorflow tensorflow-gpu\n",
        "!cd Wav2Lip && pip install -r requirements.txt\n",
        "\n",
        "#download pretrained model for face detection\n",
        "!wget \"https://www.adrianbulat.com/downloads/python-fan/s3fd-619a316812.pth\" -O \"/content/Wav2Lip/face_detection/detection/sfd/s3fd.pth\"\n"
      ],
      "metadata": {
        "id": "gGgF9xFux1IG",
        "colab": {
          "base_uri": "https://localhost:8080/"
        },
        "outputId": "b0a3d178-160f-485b-8ca5-e354d42febf3"
      },
      "execution_count": null,
      "outputs": [
        {
          "output_type": "stream",
          "name": "stdout",
          "text": [
            "Looking in indexes: https://pypi.org/simple, https://us-python.pkg.dev/colab-wheels/public/simple/\n",
            "Collecting ghc==1.0\n",
            "  Downloading https://raw.githubusercontent.com/AwaleSajil/ghc/master/ghc-1.0-py3-none-any.whl (13 kB)\n",
            "Installing collected packages: ghc\n",
            "Successfully installed ghc-1.0\n",
            "Looking in indexes: https://pypi.org/simple, https://us-python.pkg.dev/colab-wheels/public/simple/\n",
            "Collecting librosa==0.7.0\n",
            "  Downloading librosa-0.7.0.tar.gz (1.6 MB)\n",
            "\u001b[K     |████████████████████████████████| 1.6 MB 1.7 MB/s \n",
            "\u001b[?25hRequirement already satisfied: numpy in /usr/local/lib/python3.8/dist-packages (from -r requirements.txt (line 2)) (1.21.6)\n",
            "Requirement already satisfied: opencv-contrib-python in /usr/local/lib/python3.8/dist-packages (from -r requirements.txt (line 3)) (4.6.0.66)\n",
            "Requirement already satisfied: opencv-python in /usr/local/lib/python3.8/dist-packages (from -r requirements.txt (line 4)) (4.6.0.66)\n",
            "Requirement already satisfied: torch in /usr/local/lib/python3.8/dist-packages (from -r requirements.txt (line 5)) (1.13.0+cu116)\n",
            "Requirement already satisfied: torchvision in /usr/local/lib/python3.8/dist-packages (from -r requirements.txt (line 6)) (0.14.0+cu116)\n",
            "Collecting tqdm==4.45.0\n",
            "  Downloading tqdm-4.45.0-py2.py3-none-any.whl (60 kB)\n",
            "\u001b[K     |████████████████████████████████| 60 kB 8.1 MB/s \n",
            "\u001b[?25hCollecting numba==0.48\n",
            "  Downloading numba-0.48.0-1-cp38-cp38-manylinux2014_x86_64.whl (3.6 MB)\n",
            "\u001b[K     |████████████████████████████████| 3.6 MB 23.5 MB/s \n",
            "\u001b[?25hRequirement already satisfied: audioread>=2.0.0 in /usr/local/lib/python3.8/dist-packages (from librosa==0.7.0->-r requirements.txt (line 1)) (3.0.0)\n",
            "Requirement already satisfied: scipy>=1.0.0 in /usr/local/lib/python3.8/dist-packages (from librosa==0.7.0->-r requirements.txt (line 1)) (1.7.3)\n",
            "Requirement already satisfied: scikit-learn!=0.19.0,>=0.14.0 in /usr/local/lib/python3.8/dist-packages (from librosa==0.7.0->-r requirements.txt (line 1)) (1.0.2)\n",
            "Requirement already satisfied: joblib>=0.12 in /usr/local/lib/python3.8/dist-packages (from librosa==0.7.0->-r requirements.txt (line 1)) (1.2.0)\n",
            "Requirement already satisfied: decorator>=3.0.0 in /usr/local/lib/python3.8/dist-packages (from librosa==0.7.0->-r requirements.txt (line 1)) (4.4.2)\n",
            "Requirement already satisfied: six>=1.3 in /usr/local/lib/python3.8/dist-packages (from librosa==0.7.0->-r requirements.txt (line 1)) (1.15.0)\n",
            "Requirement already satisfied: resampy>=0.2.0 in /usr/local/lib/python3.8/dist-packages (from librosa==0.7.0->-r requirements.txt (line 1)) (0.4.2)\n",
            "Requirement already satisfied: soundfile>=0.9.0 in /usr/local/lib/python3.8/dist-packages (from librosa==0.7.0->-r requirements.txt (line 1)) (0.11.0)\n",
            "Requirement already satisfied: setuptools in /usr/local/lib/python3.8/dist-packages (from numba==0.48->-r requirements.txt (line 8)) (57.4.0)\n",
            "Collecting llvmlite<0.32.0,>=0.31.0dev0\n",
            "  Downloading llvmlite-0.31.0-cp38-cp38-manylinux1_x86_64.whl (20.2 MB)\n",
            "\u001b[K     |████████████████████████████████| 20.2 MB 1.4 MB/s \n",
            "\u001b[?25hCollecting resampy>=0.2.0\n",
            "  Downloading resampy-0.4.1-py3-none-any.whl (3.1 MB)\n",
            "\u001b[K     |████████████████████████████████| 3.1 MB 60.5 MB/s \n",
            "\u001b[?25h  Downloading resampy-0.4.0-py3-none-any.whl (3.1 MB)\n",
            "\u001b[K     |████████████████████████████████| 3.1 MB 74.8 MB/s \n",
            "\u001b[?25h  Downloading resampy-0.3.1-py3-none-any.whl (3.1 MB)\n",
            "\u001b[K     |████████████████████████████████| 3.1 MB 31.4 MB/s \n",
            "\u001b[?25hRequirement already satisfied: threadpoolctl>=2.0.0 in /usr/local/lib/python3.8/dist-packages (from scikit-learn!=0.19.0,>=0.14.0->librosa==0.7.0->-r requirements.txt (line 1)) (3.1.0)\n",
            "Requirement already satisfied: cffi>=1.0 in /usr/local/lib/python3.8/dist-packages (from soundfile>=0.9.0->librosa==0.7.0->-r requirements.txt (line 1)) (1.15.1)\n",
            "Requirement already satisfied: pycparser in /usr/local/lib/python3.8/dist-packages (from cffi>=1.0->soundfile>=0.9.0->librosa==0.7.0->-r requirements.txt (line 1)) (2.21)\n",
            "Requirement already satisfied: typing-extensions in /usr/local/lib/python3.8/dist-packages (from torch->-r requirements.txt (line 5)) (4.4.0)\n",
            "Requirement already satisfied: requests in /usr/local/lib/python3.8/dist-packages (from torchvision->-r requirements.txt (line 6)) (2.23.0)\n",
            "Requirement already satisfied: pillow!=8.3.*,>=5.3.0 in /usr/local/lib/python3.8/dist-packages (from torchvision->-r requirements.txt (line 6)) (7.1.2)\n",
            "Requirement already satisfied: certifi>=2017.4.17 in /usr/local/lib/python3.8/dist-packages (from requests->torchvision->-r requirements.txt (line 6)) (2022.12.7)\n",
            "Requirement already satisfied: chardet<4,>=3.0.2 in /usr/local/lib/python3.8/dist-packages (from requests->torchvision->-r requirements.txt (line 6)) (3.0.4)\n",
            "Requirement already satisfied: urllib3!=1.25.0,!=1.25.1,<1.26,>=1.21.1 in /usr/local/lib/python3.8/dist-packages (from requests->torchvision->-r requirements.txt (line 6)) (1.24.3)\n",
            "Requirement already satisfied: idna<3,>=2.5 in /usr/local/lib/python3.8/dist-packages (from requests->torchvision->-r requirements.txt (line 6)) (2.10)\n",
            "Building wheels for collected packages: librosa\n",
            "  Building wheel for librosa (setup.py) ... \u001b[?25l\u001b[?25hdone\n",
            "  Created wheel for librosa: filename=librosa-0.7.0-py3-none-any.whl size=1598359 sha256=fba7aec2d3941ea47a765d2ceeaed99f05457403fbd0229d520c74b3f13ce9e7\n",
            "  Stored in directory: /root/.cache/pip/wheels/63/a2/a7/ea7703de8e54f06ddbdd455ecaa7f6d4b94b5fcfe4eb86504a\n",
            "Successfully built librosa\n",
            "Installing collected packages: llvmlite, numba, resampy, tqdm, librosa\n",
            "  Attempting uninstall: llvmlite\n",
            "    Found existing installation: llvmlite 0.39.1\n",
            "    Uninstalling llvmlite-0.39.1:\n",
            "      Successfully uninstalled llvmlite-0.39.1\n",
            "  Attempting uninstall: numba\n",
            "    Found existing installation: numba 0.56.4\n",
            "    Uninstalling numba-0.56.4:\n",
            "      Successfully uninstalled numba-0.56.4\n",
            "  Attempting uninstall: resampy\n",
            "    Found existing installation: resampy 0.4.2\n",
            "    Uninstalling resampy-0.4.2:\n",
            "      Successfully uninstalled resampy-0.4.2\n",
            "  Attempting uninstall: tqdm\n",
            "    Found existing installation: tqdm 4.64.1\n",
            "    Uninstalling tqdm-4.64.1:\n",
            "      Successfully uninstalled tqdm-4.64.1\n",
            "  Attempting uninstall: librosa\n",
            "    Found existing installation: librosa 0.8.1\n",
            "    Uninstalling librosa-0.8.1:\n",
            "      Successfully uninstalled librosa-0.8.1\n",
            "\u001b[31mERROR: pip's dependency resolver does not currently take into account all the packages that are installed. This behaviour is the source of the following dependency conflicts.\n",
            "panel 0.12.1 requires tqdm>=4.48.0, but you have tqdm 4.45.0 which is incompatible.\n",
            "kapre 0.3.7 requires librosa>=0.7.2, but you have librosa 0.7.0 which is incompatible.\u001b[0m\n",
            "Successfully installed librosa-0.7.0 llvmlite-0.31.0 numba-0.48.0 resampy-0.3.1 tqdm-4.45.0\n",
            "--2023-01-03 14:42:08--  https://www.adrianbulat.com/downloads/python-fan/s3fd-619a316812.pth\n",
            "Resolving www.adrianbulat.com (www.adrianbulat.com)... 45.136.29.207\n",
            "Connecting to www.adrianbulat.com (www.adrianbulat.com)|45.136.29.207|:443... connected.\n",
            "HTTP request sent, awaiting response... 200 OK\n",
            "Length: 89843225 (86M) [application/octet-stream]\n",
            "Saving to: ‘/content/Wav2Lip/face_detection/detection/sfd/s3fd.pth’\n",
            "\n",
            "/content/Wav2Lip/fa 100%[===================>]  85.68M   185MB/s    in 0.5s    \n",
            "\n",
            "2023-01-03 14:42:08 (185 MB/s) - ‘/content/Wav2Lip/face_detection/detection/sfd/s3fd.pth’ saved [89843225/89843225]\n",
            "\n"
          ]
        }
      ]
    },
    {
      "cell_type": "code",
      "source": [
        "!pip install pipreqs"
      ],
      "metadata": {
        "colab": {
          "base_uri": "https://localhost:8080/"
        },
        "id": "Q27WpdYrmZ8h",
        "outputId": "2dce7230-2b1d-448a-ed38-c8806c140470"
      },
      "execution_count": null,
      "outputs": [
        {
          "output_type": "stream",
          "name": "stdout",
          "text": [
            "Looking in indexes: https://pypi.org/simple, https://us-python.pkg.dev/colab-wheels/public/simple/\n",
            "Collecting pipreqs\n",
            "  Downloading pipreqs-0.4.11-py2.py3-none-any.whl (32 kB)\n",
            "Collecting yarg\n",
            "  Downloading yarg-0.1.9-py2.py3-none-any.whl (19 kB)\n",
            "Collecting docopt\n",
            "  Downloading docopt-0.6.2.tar.gz (25 kB)\n",
            "Requirement already satisfied: requests in /usr/local/lib/python3.8/dist-packages (from yarg->pipreqs) (2.23.0)\n",
            "Requirement already satisfied: idna<3,>=2.5 in /usr/local/lib/python3.8/dist-packages (from requests->yarg->pipreqs) (2.10)\n",
            "Requirement already satisfied: urllib3!=1.25.0,!=1.25.1,<1.26,>=1.21.1 in /usr/local/lib/python3.8/dist-packages (from requests->yarg->pipreqs) (1.24.3)\n",
            "Requirement already satisfied: chardet<4,>=3.0.2 in /usr/local/lib/python3.8/dist-packages (from requests->yarg->pipreqs) (3.0.4)\n",
            "Requirement already satisfied: certifi>=2017.4.17 in /usr/local/lib/python3.8/dist-packages (from requests->yarg->pipreqs) (2022.12.7)\n",
            "Building wheels for collected packages: docopt\n",
            "  Building wheel for docopt (setup.py) ... \u001b[?25l\u001b[?25hdone\n",
            "  Created wheel for docopt: filename=docopt-0.6.2-py2.py3-none-any.whl size=13723 sha256=e5db64b0acc0408cde9f2cc81f73bfe90bbe5dc61df38c802d511716a7c8fe5c\n",
            "  Stored in directory: /root/.cache/pip/wheels/56/ea/58/ead137b087d9e326852a851351d1debf4ada529b6ac0ec4e8c\n",
            "Successfully built docopt\n",
            "Installing collected packages: yarg, docopt, pipreqs\n",
            "Successfully installed docopt-0.6.2 pipreqs-0.4.11 yarg-0.1.9\n"
          ]
        }
      ]
    },
    {
      "cell_type": "code",
      "source": [
        "!cd Wav2Lip && mkdir lipsync_expert\n",
        "!cd Wav2Lip && cp /content/drive/MyDrive/Wav2lip_models/lipsync_expert.pth /content/Wav2Lip/lipsync_expert/lipsync_expert.pth\n",
        "!cd Wav2Lip && cp /content/drive/MyDrive/Wav2lip_models/wav2lip.pth /content/Wav2Lip/checkpoints"
      ],
      "metadata": {
        "id": "sNOFR9asyI0m"
      },
      "execution_count": null,
      "outputs": []
    },
    {
      "cell_type": "code",
      "source": [
        "!cd Wav2Lip && pip install -r requirements.txt"
      ],
      "metadata": {
        "colab": {
          "base_uri": "https://localhost:8080/"
        },
        "id": "Ytb9xItr0yWs",
        "outputId": "1dceab44-af18-448c-bad6-1c88f8f58d83"
      },
      "execution_count": null,
      "outputs": [
        {
          "output_type": "stream",
          "name": "stdout",
          "text": [
            "Looking in indexes: https://pypi.org/simple, https://us-python.pkg.dev/colab-wheels/public/simple/\n",
            "Requirement already satisfied: librosa==0.7.0 in /usr/local/lib/python3.8/dist-packages (from -r requirements.txt (line 1)) (0.7.0)\n",
            "Requirement already satisfied: numpy in /usr/local/lib/python3.8/dist-packages (from -r requirements.txt (line 2)) (1.21.6)\n",
            "Requirement already satisfied: opencv-contrib-python in /usr/local/lib/python3.8/dist-packages (from -r requirements.txt (line 3)) (4.6.0.66)\n",
            "Requirement already satisfied: opencv-python in /usr/local/lib/python3.8/dist-packages (from -r requirements.txt (line 4)) (4.6.0.66)\n",
            "Requirement already satisfied: torch in /usr/local/lib/python3.8/dist-packages (from -r requirements.txt (line 5)) (1.13.0+cu116)\n",
            "Requirement already satisfied: torchvision in /usr/local/lib/python3.8/dist-packages (from -r requirements.txt (line 6)) (0.14.0+cu116)\n",
            "Requirement already satisfied: tqdm==4.45.0 in /usr/local/lib/python3.8/dist-packages (from -r requirements.txt (line 7)) (4.45.0)\n",
            "Requirement already satisfied: numba==0.48 in /usr/local/lib/python3.8/dist-packages (from -r requirements.txt (line 8)) (0.48.0)\n",
            "Requirement already satisfied: audioread>=2.0.0 in /usr/local/lib/python3.8/dist-packages (from librosa==0.7.0->-r requirements.txt (line 1)) (3.0.0)\n",
            "Requirement already satisfied: joblib>=0.12 in /usr/local/lib/python3.8/dist-packages (from librosa==0.7.0->-r requirements.txt (line 1)) (1.2.0)\n",
            "Requirement already satisfied: decorator>=3.0.0 in /usr/local/lib/python3.8/dist-packages (from librosa==0.7.0->-r requirements.txt (line 1)) (4.4.2)\n",
            "Requirement already satisfied: soundfile>=0.9.0 in /usr/local/lib/python3.8/dist-packages (from librosa==0.7.0->-r requirements.txt (line 1)) (0.11.0)\n",
            "Requirement already satisfied: six>=1.3 in /usr/local/lib/python3.8/dist-packages (from librosa==0.7.0->-r requirements.txt (line 1)) (1.15.0)\n",
            "Requirement already satisfied: resampy>=0.2.0 in /usr/local/lib/python3.8/dist-packages (from librosa==0.7.0->-r requirements.txt (line 1)) (0.3.1)\n",
            "Requirement already satisfied: scipy>=1.0.0 in /usr/local/lib/python3.8/dist-packages (from librosa==0.7.0->-r requirements.txt (line 1)) (1.7.3)\n",
            "Requirement already satisfied: scikit-learn!=0.19.0,>=0.14.0 in /usr/local/lib/python3.8/dist-packages (from librosa==0.7.0->-r requirements.txt (line 1)) (1.0.2)\n",
            "Requirement already satisfied: setuptools in /usr/local/lib/python3.8/dist-packages (from numba==0.48->-r requirements.txt (line 8)) (57.4.0)\n",
            "Requirement already satisfied: llvmlite<0.32.0,>=0.31.0dev0 in /usr/local/lib/python3.8/dist-packages (from numba==0.48->-r requirements.txt (line 8)) (0.31.0)\n",
            "Requirement already satisfied: threadpoolctl>=2.0.0 in /usr/local/lib/python3.8/dist-packages (from scikit-learn!=0.19.0,>=0.14.0->librosa==0.7.0->-r requirements.txt (line 1)) (3.1.0)\n",
            "Requirement already satisfied: cffi>=1.0 in /usr/local/lib/python3.8/dist-packages (from soundfile>=0.9.0->librosa==0.7.0->-r requirements.txt (line 1)) (1.15.1)\n",
            "Requirement already satisfied: pycparser in /usr/local/lib/python3.8/dist-packages (from cffi>=1.0->soundfile>=0.9.0->librosa==0.7.0->-r requirements.txt (line 1)) (2.21)\n",
            "Requirement already satisfied: typing-extensions in /usr/local/lib/python3.8/dist-packages (from torch->-r requirements.txt (line 5)) (4.4.0)\n",
            "Requirement already satisfied: pillow!=8.3.*,>=5.3.0 in /usr/local/lib/python3.8/dist-packages (from torchvision->-r requirements.txt (line 6)) (7.1.2)\n",
            "Requirement already satisfied: requests in /usr/local/lib/python3.8/dist-packages (from torchvision->-r requirements.txt (line 6)) (2.23.0)\n",
            "Requirement already satisfied: urllib3!=1.25.0,!=1.25.1,<1.26,>=1.21.1 in /usr/local/lib/python3.8/dist-packages (from requests->torchvision->-r requirements.txt (line 6)) (1.24.3)\n",
            "Requirement already satisfied: certifi>=2017.4.17 in /usr/local/lib/python3.8/dist-packages (from requests->torchvision->-r requirements.txt (line 6)) (2022.12.7)\n",
            "Requirement already satisfied: chardet<4,>=3.0.2 in /usr/local/lib/python3.8/dist-packages (from requests->torchvision->-r requirements.txt (line 6)) (3.0.4)\n",
            "Requirement already satisfied: idna<3,>=2.5 in /usr/local/lib/python3.8/dist-packages (from requests->torchvision->-r requirements.txt (line 6)) (2.10)\n"
          ]
        }
      ]
    },
    {
      "cell_type": "code",
      "source": [
        "!cd Wav2Lip && mkdir lrs2_preprocessed_temp"
      ],
      "metadata": {
        "id": "mRNm-LO1jOiW"
      },
      "execution_count": null,
      "outputs": []
    },
    {
      "cell_type": "code",
      "execution_count": null,
      "metadata": {
        "colab": {
          "base_uri": "https://localhost:8080/"
        },
        "id": "kOTV-7p_Ttf6",
        "outputId": "248ed5fc-74d6-4a77-82f9-11c7e1d6bc4e"
      },
      "outputs": [
        {
          "output_type": "stream",
          "name": "stderr",
          "text": [
            "100%|██████████| 1/1 [00:00<00:00,  1.18it/s]\n"
          ]
        }
      ],
      "source": [
        "import os\n",
        "from tqdm import tqdm\n",
        "\n",
        "file1 = open(\"/content/Wav2Lip/filelists/train.txt\",\"w\")\n",
        "\n",
        "dir = '/content/drive/MyDrive/wav2lip_train/lrs2_preprocessed'\n",
        "\n",
        "folders = os.listdir(dir)\n",
        "for folder in tqdm(folders):\n",
        "  sub_folds = os.listdir(os.path.join(dir,folder))\n",
        "  for sub_fold in sub_folds:\n",
        "    if folder == folders[-1] and sub_fold == sub_folds[-1]:\n",
        "      file1.write(os.path.join(folder,sub_fold))\n",
        "    else:\n",
        "      file1.write(os.path.join(folder,sub_fold)+'\\n')\n",
        "\n",
        "file1.close()"
      ]
    },
    {
      "cell_type": "code",
      "execution_count": null,
      "metadata": {
        "colab": {
          "base_uri": "https://localhost:8080/"
        },
        "id": "3EPZg6oGT_3A",
        "outputId": "24b1454b-fb2c-4390-ed15-487df74ee5eb"
      },
      "outputs": [
        {
          "output_type": "stream",
          "name": "stderr",
          "text": [
            "100%|██████████| 1/1 [00:00<00:00, 577.57it/s]\n"
          ]
        }
      ],
      "source": [
        "import os\n",
        "from tqdm import tqdm\n",
        "\n",
        "file1 = open(\"/content/Wav2Lip/filelists/val.txt\",\"w\")\n",
        "\n",
        "dir = '/content/drive/MyDrive/wav2lip_train/lrs2_preprocessed'\n",
        "\n",
        "folders = os.listdir(dir)\n",
        "for folder in tqdm(folders[-400:]):\n",
        "  sub_folds = os.listdir(os.path.join(dir,folder))\n",
        "  for sub_fold in sub_folds:\n",
        "    if folder == folders[-1] and sub_fold == sub_folds[-1]:\n",
        "      file1.write(os.path.join(folder,sub_fold))\n",
        "    else:\n",
        "      file1.write(os.path.join(folder,sub_fold)+'\\n')\n",
        "\n",
        "file1.close()\n"
      ]
    },
    {
      "cell_type": "code",
      "source": [
        "!cd Wav2Lip && python color_syncnet_train.py --data_root /content/drive/MyDrive/wav2lip_train/lrs2_preprocessed --checkpoint_dir /content/drive/MyDrive/checkpoints/lipsync_expert"
      ],
      "metadata": {
        "colab": {
          "base_uri": "https://localhost:8080/"
        },
        "id": "uZRj7rB4V_io",
        "outputId": "4bf13d77-d83c-4193-a45d-c6c42128da62"
      },
      "execution_count": null,
      "outputs": [
        {
          "output_type": "stream",
          "name": "stdout",
          "text": [
            "use_cuda: True\n",
            "/usr/local/lib/python3.8/dist-packages/torch/utils/data/dataloader.py:554: UserWarning: This DataLoader will create 16 worker processes in total. Our suggested max number of worker in current system is 2, which is smaller than what this DataLoader is going to create. Please be aware that excessive worker creation might get DataLoader running slow or even freeze, lower the worker number to avoid potential slowness/freeze if necessary.\n",
            "  warnings.warn(_create_warning_msg(\n",
            "/usr/local/lib/python3.8/dist-packages/torch/utils/data/dataloader.py:554: UserWarning: This DataLoader will create 8 worker processes in total. Our suggested max number of worker in current system is 2, which is smaller than what this DataLoader is going to create. Please be aware that excessive worker creation might get DataLoader running slow or even freeze, lower the worker number to avoid potential slowness/freeze if necessary.\n",
            "  warnings.warn(_create_warning_msg(\n",
            "total trainable params 16435072\n",
            "0it [00:00, ?it/s]Saved checkpoint: /content/drive/MyDrive/checkpoints/lipsync_expert/checkpoint_step000000001.pth\n",
            "Loss: 0.8043030500411987: : 1it [01:53, 113.58s/it]\n",
            "Loss: 0.6150763034820557: : 1it [02:03, 123.48s/it]\n",
            "Loss: 0.7963123321533203: : 1it [02:00, 120.29s/it]\n",
            "Loss: 0.7972157001495361: : 1it [01:51, 111.90s/it]\n",
            "Loss: 0.7619979977607727: : 1it [02:23, 143.84s/it]\n",
            "Loss: 0.760309636592865: : 1it [02:07, 127.38s/it]\n",
            "Loss: 0.7749565243721008: : 1it [02:10, 130.30s/it]\n",
            "Loss: 0.8156916499137878: : 1it [02:04, 124.59s/it]\n",
            "Loss: 0.739233136177063: : 1it [02:19, 139.70s/it]\n",
            "0it [00:00, ?it/s]Saved checkpoint: /content/drive/MyDrive/checkpoints/lipsync_expert/checkpoint_step000000010.pth\n",
            "Loss: 0.7511447668075562: : 1it [02:06, 126.59s/it]\n",
            "0it [00:00, ?it/s]Traceback (most recent call last):\n",
            "  File \"/usr/local/lib/python3.8/dist-packages/tqdm/std.py\", line 1127, in __iter__\n",
            "    for obj in iterable:\n",
            "  File \"/usr/local/lib/python3.8/dist-packages/torch/utils/data/dataloader.py\", line 628, in __next__\n",
            "    data = self._next_data()\n",
            "  File \"/usr/local/lib/python3.8/dist-packages/torch/utils/data/dataloader.py\", line 1316, in _next_data\n",
            "    idx, data = self._get_data()\n",
            "  File \"/usr/local/lib/python3.8/dist-packages/torch/utils/data/dataloader.py\", line 1282, in _get_data\n",
            "    success, data = self._try_get_data()\n",
            "  File \"/usr/local/lib/python3.8/dist-packages/torch/utils/data/dataloader.py\", line 1120, in _try_get_data\n",
            "    data = self._data_queue.get(timeout=timeout)\n",
            "  File \"/usr/lib/python3.8/multiprocessing/queues.py\", line 107, in get\n",
            "    if not self._poll(timeout):\n",
            "  File \"/usr/lib/python3.8/multiprocessing/connection.py\", line 257, in poll\n",
            "    return self._poll(timeout)\n",
            "  File \"/usr/lib/python3.8/multiprocessing/connection.py\", line 424, in _poll\n",
            "    r = wait([self], timeout)\n",
            "  File \"/usr/lib/python3.8/multiprocessing/connection.py\", line 931, in wait\n",
            "    ready = selector.select(timeout)\n",
            "  File \"/usr/lib/python3.8/selectors.py\", line 415, in select\n",
            "    fd_event_list = self._selector.poll(timeout)\n",
            "KeyboardInterrupt\n",
            "\n",
            "During handling of the above exception, another exception occurred:\n",
            "\n",
            "Traceback (most recent call last):\n",
            "  File \"color_syncnet_train.py\", line 276, in <module>\n",
            "    train(device, model, train_data_loader, test_data_loader, optimizer,\n",
            "  File \"color_syncnet_train.py\", line 149, in train\n",
            "    for step, (x, mel, y) in prog_bar:\n",
            "  File \"/usr/local/lib/python3.8/dist-packages/tqdm/std.py\", line 1180, in __iter__\n",
            "    self.close()\n",
            "  File \"/usr/local/lib/python3.8/dist-packages/tqdm/std.py\", line 1268, in close\n",
            "    self._decr_instances(self)\n",
            "  File \"/usr/local/lib/python3.8/dist-packages/tqdm/std.py\", line 572, in _decr_instances\n",
            "    cls.monitor.exit()\n",
            "  File \"/usr/local/lib/python3.8/dist-packages/tqdm/_monitor.py\", line 53, in exit\n",
            "    self.join()\n",
            "  File \"/usr/lib/python3.8/threading.py\", line 1011, in join\n",
            "    self._wait_for_tstate_lock()\n",
            "  File \"/usr/lib/python3.8/threading.py\", line 1027, in _wait_for_tstate_lock\n",
            "    elif lock.acquire(block, timeout):\n",
            "KeyboardInterrupt\n",
            "Error in atexit._run_exitfuncs:\n",
            "Traceback (most recent call last):\n",
            "  File \"/usr/local/lib/python3.8/dist-packages/tqdm/_monitor.py\", line 53, in exit\n",
            "    self.join()\n",
            "  File \"/usr/lib/python3.8/threading.py\", line 1011, in join\n",
            "    self._wait_for_tstate_lock()\n",
            "  File \"/usr/lib/python3.8/threading.py\", line 1027, in _wait_for_tstate_lock\n",
            "    elif lock.acquire(block, timeout):\n",
            "KeyboardInterrupt\n",
            "^C\n"
          ]
        }
      ]
    },
    {
      "cell_type": "code",
      "source": [
        "!cd Wav2Lip && python wav2lip_train.py --data_root /content/drive/MyDrive/wav2lip_train/lrs2_preprocessed --checkpoint_dir /content/drive/MyDrive/checkpoints/wav2lip_rt --syncnet_checkpoint_path /content/drive/MyDrive/checkpoints/lipsync_expert/checkpoint_step000000010.pth --checkpoint_path /content/drive/MyDrive/checkpoints/wav2lip_rt/checkpoint_step000396020.pth"
      ],
      "metadata": {
        "id": "4nYqhH4r014r",
        "colab": {
          "base_uri": "https://localhost:8080/"
        },
        "outputId": "86204c27-c97f-42a4-fff6-c8b79a6e7d60"
      },
      "execution_count": null,
      "outputs": [
        {
          "output_type": "stream",
          "name": "stdout",
          "text": [
            "Traceback (most recent call last):\n",
            "  File \"wav2lip_train.py\", line 34, in <module>\n",
            "    use_cuda = torch.cuda.is_available()\n",
            "  File \"/usr/local/lib/python3.8/dist-packages/torch/cuda/__init__.py\", line 88, in is_available\n",
            "    return torch._C._cuda_getDeviceCount() > 0\n",
            "KeyboardInterrupt\n",
            "^C\n"
          ]
        }
      ]
    },
    {
      "cell_type": "code",
      "source": [
        "!cd Wav2Lip && python inference.py --checkpoint_path /content/drive/MyDrive/checkpoints/wav2lip_rt/checkpoint_step000396020.pth --face /content/input_sharukh.mp4 --audio /content/drive/MyDrive/generated_audio.wav"
      ],
      "metadata": {
        "id": "dDHk205vyDJf",
        "colab": {
          "base_uri": "https://localhost:8080/"
        },
        "outputId": "b458d48e-95ca-40bc-bf40-870a3522bfb4"
      },
      "execution_count": null,
      "outputs": [
        {
          "output_type": "stream",
          "name": "stdout",
          "text": [
            "Using cuda for inference.\n",
            "Reading video frames...\n",
            "Number of frames available for inference: 185\n",
            "(80, 4602)\n",
            "Length of mel chunks: 1435\n",
            "  0% 0/12 [00:00<?, ?it/s]\n",
            "  0% 0/12 [00:00<?, ?it/s]\u001b[A\n",
            "  8% 1/12 [00:10<01:52, 10.19s/it]\u001b[A\n",
            " 17% 2/12 [00:11<01:14,  7.44s/it]\u001b[A\n",
            " 25% 3/12 [00:12<00:49,  5.51s/it]\u001b[A\n",
            " 33% 4/12 [00:13<00:33,  4.14s/it]\u001b[A\n",
            " 42% 5/12 [00:14<00:22,  3.19s/it]\u001b[A\n",
            " 50% 6/12 [00:15<00:15,  2.53s/it]\u001b[A\n",
            " 58% 7/12 [00:16<00:10,  2.07s/it]\u001b[A\n",
            " 67% 8/12 [00:17<00:06,  1.74s/it]\u001b[A\n",
            " 75% 9/12 [00:18<00:04,  1.52s/it]\u001b[A\n",
            " 83% 10/12 [00:19<00:02,  1.35s/it]\u001b[A\n",
            " 92% 11/12 [00:20<00:01,  1.24s/it]\u001b[A\n",
            "100% 12/12 [00:22<00:00,  1.84s/it]\n",
            "Load checkpoint from: /content/drive/MyDrive/checkpoints/wav2lip_rt/checkpoint_step000396020.pth\n",
            "Model loaded\n",
            "100% 12/12 [00:42<00:00,  3.50s/it]\n",
            "ffmpeg version 3.4.11-0ubuntu0.1 Copyright (c) 2000-2022 the FFmpeg developers\n",
            "  built with gcc 7 (Ubuntu 7.5.0-3ubuntu1~18.04)\n",
            "  configuration: --prefix=/usr --extra-version=0ubuntu0.1 --toolchain=hardened --libdir=/usr/lib/x86_64-linux-gnu --incdir=/usr/include/x86_64-linux-gnu --enable-gpl --disable-stripping --enable-avresample --enable-avisynth --enable-gnutls --enable-ladspa --enable-libass --enable-libbluray --enable-libbs2b --enable-libcaca --enable-libcdio --enable-libflite --enable-libfontconfig --enable-libfreetype --enable-libfribidi --enable-libgme --enable-libgsm --enable-libmp3lame --enable-libmysofa --enable-libopenjpeg --enable-libopenmpt --enable-libopus --enable-libpulse --enable-librubberband --enable-librsvg --enable-libshine --enable-libsnappy --enable-libsoxr --enable-libspeex --enable-libssh --enable-libtheora --enable-libtwolame --enable-libvorbis --enable-libvpx --enable-libwavpack --enable-libwebp --enable-libx265 --enable-libxml2 --enable-libxvid --enable-libzmq --enable-libzvbi --enable-omx --enable-openal --enable-opengl --enable-sdl2 --enable-libdc1394 --enable-libdrm --enable-libiec61883 --enable-chromaprint --enable-frei0r --enable-libopencv --enable-libx264 --enable-shared\n",
            "  libavutil      55. 78.100 / 55. 78.100\n",
            "  libavcodec     57.107.100 / 57.107.100\n",
            "  libavformat    57. 83.100 / 57. 83.100\n",
            "  libavdevice    57. 10.100 / 57. 10.100\n",
            "  libavfilter     6.107.100 /  6.107.100\n",
            "  libavresample   3.  7.  0 /  3.  7.  0\n",
            "  libswscale      4.  8.100 /  4.  8.100\n",
            "  libswresample   2.  9.100 /  2.  9.100\n",
            "  libpostproc    54.  7.100 / 54.  7.100\n",
            "\u001b[0;33mGuessed Channel Layout for Input Stream #0.0 : mono\n",
            "\u001b[0mInput #0, wav, from '/content/drive/MyDrive/generated_audio.wav':\n",
            "  Duration: 00:00:57.51, bitrate: 256 kb/s\n",
            "    Stream #0:0: Audio: pcm_s16le ([1][0][0][0] / 0x0001), 16000 Hz, mono, s16, 256 kb/s\n",
            "Input #1, avi, from 'temp/result.avi':\n",
            "  Metadata:\n",
            "    encoder         : Lavf58.76.100\n",
            "  Duration: 00:00:57.40, start: 0.000000, bitrate: 927 kb/s\n",
            "    Stream #1:0: Video: mpeg4 (Simple Profile) (FMP4 / 0x34504D46), yuv420p, 600x480 [SAR 1:1 DAR 5:4], 922 kb/s, 25 fps, 25 tbr, 25 tbn, 25 tbc\n",
            "Stream mapping:\n",
            "  Stream #1:0 -> #0:0 (mpeg4 (native) -> h264 (libx264))\n",
            "  Stream #0:0 -> #0:1 (pcm_s16le (native) -> aac (native))\n",
            "Press [q] to stop, [?] for help\n",
            "\u001b[1;36m[libx264 @ 0x564c4b6ac800] \u001b[0m\u001b[0;33m-qscale is ignored, -crf is recommended.\n",
            "\u001b[0m\u001b[1;36m[libx264 @ 0x564c4b6ac800] \u001b[0musing SAR=1/1\n",
            "\u001b[1;36m[libx264 @ 0x564c4b6ac800] \u001b[0musing cpu capabilities: MMX2 SSE2Fast SSSE3 SSE4.2 AVX FMA3 BMI2 AVX2 AVX512\n",
            "\u001b[1;36m[libx264 @ 0x564c4b6ac800] \u001b[0mprofile High, level 3.0\n",
            "\u001b[1;36m[libx264 @ 0x564c4b6ac800] \u001b[0m264 - core 152 r2854 e9a5903 - H.264/MPEG-4 AVC codec - Copyleft 2003-2017 - http://www.videolan.org/x264.html - options: cabac=1 ref=3 deblock=1:0:0 analyse=0x3:0x113 me=hex subme=7 psy=1 psy_rd=1.00:0.00 mixed_ref=1 me_range=16 chroma_me=1 trellis=1 8x8dct=1 cqm=0 deadzone=21,11 fast_pskip=1 chroma_qp_offset=-2 threads=3 lookahead_threads=1 sliced_threads=0 nr=0 decimate=1 interlaced=0 bluray_compat=0 constrained_intra=0 bframes=3 b_pyramid=2 b_adapt=1 b_bias=0 direct=1 weightb=1 open_gop=0 weightp=2 keyint=250 keyint_min=25 scenecut=40 intra_refresh=0 rc_lookahead=40 rc=crf mbtree=1 crf=23.0 qcomp=0.60 qpmin=0 qpmax=69 qpstep=4 ip_ratio=1.40 aq=1:1.00\n",
            "Output #0, mp4, to 'results/result_voice.mp4':\n",
            "  Metadata:\n",
            "    encoder         : Lavf57.83.100\n",
            "    Stream #0:0: Video: h264 (libx264) (avc1 / 0x31637661), yuv420p(progressive), 600x480 [SAR 1:1 DAR 5:4], q=-1--1, 25 fps, 12800 tbn, 25 tbc\n",
            "    Metadata:\n",
            "      encoder         : Lavc57.107.100 libx264\n",
            "    Side data:\n",
            "      cpb: bitrate max/min/avg: 0/0/0 buffer size: 0 vbv_delay: -1\n",
            "    Stream #0:1: Audio: aac (LC) (mp4a / 0x6134706D), 16000 Hz, mono, fltp, 69 kb/s\n",
            "    Metadata:\n",
            "      encoder         : Lavc57.107.100 aac\n",
            "frame= 1435 fps= 81 q=-1.0 Lsize=    3259kB time=00:00:57.53 bitrate= 464.1kbits/s speed=3.24x    \n",
            "video:2739kB audio:487kB subtitle:0kB other streams:0kB global headers:0kB muxing overhead: 1.007504%\n",
            "\u001b[1;36m[libx264 @ 0x564c4b6ac800] \u001b[0mframe I:8     Avg QP:14.84  size: 11792\n",
            "\u001b[1;36m[libx264 @ 0x564c4b6ac800] \u001b[0mframe P:941   Avg QP:19.26  size:  2485\n",
            "\u001b[1;36m[libx264 @ 0x564c4b6ac800] \u001b[0mframe B:486   Avg QP:23.00  size:   764\n",
            "\u001b[1;36m[libx264 @ 0x564c4b6ac800] \u001b[0mconsecutive B-frames: 48.6% 14.8% 11.5% 25.1%\n",
            "\u001b[1;36m[libx264 @ 0x564c4b6ac800] \u001b[0mmb I  I16..4: 52.0% 39.7%  8.4%\n",
            "\u001b[1;36m[libx264 @ 0x564c4b6ac800] \u001b[0mmb P  I16..4:  1.8%  4.6%  0.2%  P16..4: 26.4%  7.5%  3.4%  0.0%  0.0%    skip:56.0%\n",
            "\u001b[1;36m[libx264 @ 0x564c4b6ac800] \u001b[0mmb B  I16..4:  0.4%  1.2%  0.0%  B16..8: 27.1%  2.4%  0.2%  direct: 0.3%  skip:68.3%  L0:50.2% L1:44.1% BI: 5.7%\n",
            "\u001b[1;36m[libx264 @ 0x564c4b6ac800] \u001b[0m8x8 transform intra:66.9% inter:76.2%\n",
            "\u001b[1;36m[libx264 @ 0x564c4b6ac800] \u001b[0mcoded y,uvDC,uvAC intra: 34.9% 48.5% 5.8% inter: 6.9% 7.5% 0.0%\n",
            "\u001b[1;36m[libx264 @ 0x564c4b6ac800] \u001b[0mi16 v,h,dc,p: 35% 34% 18% 13%\n",
            "\u001b[1;36m[libx264 @ 0x564c4b6ac800] \u001b[0mi8 v,h,dc,ddl,ddr,vr,hd,vl,hu: 26% 25% 40%  2%  2%  2%  1%  1%  2%\n",
            "\u001b[1;36m[libx264 @ 0x564c4b6ac800] \u001b[0mi4 v,h,dc,ddl,ddr,vr,hd,vl,hu: 31% 21% 15%  4%  7% 10%  4%  5%  2%\n",
            "\u001b[1;36m[libx264 @ 0x564c4b6ac800] \u001b[0mi8c dc,h,v,p: 45% 27% 25%  3%\n",
            "\u001b[1;36m[libx264 @ 0x564c4b6ac800] \u001b[0mWeighted P-Frames: Y:0.0% UV:0.0%\n",
            "\u001b[1;36m[libx264 @ 0x564c4b6ac800] \u001b[0mref P L0: 73.2% 11.3% 11.4%  4.0%\n",
            "\u001b[1;36m[libx264 @ 0x564c4b6ac800] \u001b[0mref B L0: 86.8% 11.1%  2.1%\n",
            "\u001b[1;36m[libx264 @ 0x564c4b6ac800] \u001b[0mref B L1: 97.7%  2.3%\n",
            "\u001b[1;36m[libx264 @ 0x564c4b6ac800] \u001b[0mkb/s:390.87\n",
            "\u001b[1;36m[aac @ 0x564c4b6d4000] \u001b[0mQavg: 23299.344\n"
          ]
        }
      ]
    },
    {
      "cell_type": "code",
      "source": [],
      "metadata": {
        "id": "VGV8_1rkNjzm"
      },
      "execution_count": null,
      "outputs": []
    }
  ]
}